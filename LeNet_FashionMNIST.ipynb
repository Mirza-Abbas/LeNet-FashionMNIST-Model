{
  "nbformat": 4,
  "nbformat_minor": 0,
  "metadata": {
    "colab": {
      "provenance": [],
      "collapsed_sections": [
        "hytQPAOFZTsi",
        "yTDCso5GZ-CU",
        "rgG15kHbiFBM",
        "m3jNhF96ev1J",
        "9775TAQjinxJ",
        "eMZNkZFNi3L3",
        "1JnpSvdXi_oG",
        "Y3P4zsnkjFlM",
        "NVLLq9h5jMUO"
      ],
      "gpuType": "T4"
    },
    "kernelspec": {
      "name": "python3",
      "display_name": "Python 3"
    },
    "language_info": {
      "name": "python"
    },
    "accelerator": "GPU"
  },
  "cells": [
    {
      "cell_type": "markdown",
      "source": [
        "#LeNet Architecture:"
      ],
      "metadata": {
        "id": "hytQPAOFZTsi"
      }
    },
    {
      "cell_type": "markdown",
      "source": [
        "<img src=\"https://raw.githubusercontent.com/blurred-machine/Data-Science/master/Deep%20Learning%20SOTA/img/lenet-5.png\">\n"
      ],
      "metadata": {
        "id": "_6x8BNCOe6W1"
      }
    },
    {
      "cell_type": "markdown",
      "source": [
        "<img src=\"https://i.sstatic.net/vD1u3.png\">"
      ],
      "metadata": {
        "id": "HNW_JB3OclNS"
      }
    },
    {
      "cell_type": "markdown",
      "source": [
        "- Input: 1x32x32\n",
        "- Layer 1 (Convolutional): kernel = 5x5, stride = 1, padding = 0, in channel = 1, out channel = 6, size = 28x28\n",
        "- Layer 2 (Pooling): Avg pool, k=2x2, s=2, p=0, i=6, o=6, size = 14x14\n",
        "- Layer 3 (C): K = 5x5, s=1, p=0, i=6, o=16, size = 10x10\n",
        "- Layer 4 (P): Avg pool, s=2, p=0, i=16, o=16, size = 5x5\n",
        "- Layer 5 (C): K=5x5, s=1, p=0, i=16,  o=120, size= 1x1\n",
        "- Layer 6 (Fully Connected): Linear, input = 120, output = 84\n",
        "- Layer 7 (F): Linear, input = 84, output = 10"
      ],
      "metadata": {
        "id": "q3xXL72ScjvA"
      }
    },
    {
      "cell_type": "markdown",
      "source": [
        "#Importing Libraries:"
      ],
      "metadata": {
        "id": "yTDCso5GZ-CU"
      }
    },
    {
      "cell_type": "code",
      "source": [
        "import torch\n",
        "import torch.nn as nn\n",
        "import torch.nn.functional as F\n",
        "from torch.utils.data import DataLoader\n",
        "from torchvision import datasets, transforms\n",
        "from torchvision.utils import make_grid\n",
        "import numpy as np\n",
        "import pandas as pd\n",
        "import time\n",
        "import matplotlib.pyplot as plt\n",
        "%matplotlib inline"
      ],
      "metadata": {
        "id": "bfnqni1cVfrh"
      },
      "execution_count": 1,
      "outputs": []
    },
    {
      "cell_type": "markdown",
      "source": [
        "#Transforming Data:"
      ],
      "metadata": {
        "id": "rgG15kHbiFBM"
      }
    },
    {
      "cell_type": "code",
      "source": [
        "#Converting FashionMNIST images into 4D tensors [no. of images, height, width, color channel]\n",
        "\n",
        "transform = transforms.Compose([\n",
        "    transforms.ToTensor(),\n",
        "    transforms.Resize((32, 32)), #Fashion MNIST images are 28x28, LeNet takes a 32x32 input\n",
        "    transforms.RandomRotation(10),  # Random rotation up to 10 degrees\n",
        "    transforms.RandomHorizontalFlip(), # Random horizontal flips\n",
        "])"
      ],
      "metadata": {
        "id": "aac2AjZ5iGYk"
      },
      "execution_count": 2,
      "outputs": []
    },
    {
      "cell_type": "code",
      "source": [
        "#Import Train Data\n",
        "\n",
        "train_data = datasets.FashionMNIST(\n",
        "    root='./FashionMNIST_CNN_DATA',\n",
        "    train=True,\n",
        "    download=True,\n",
        "    transform=transform\n",
        "    ) #downloads MNIST training dataset in root path\n",
        "\n",
        "print(train_data ) #60000 training examples\n",
        "print(train_data.data.shape) #shape is 60000x28x28 for grayscale image\n",
        "np.unique(train_data.targets, return_counts=True) #10 labels, each label contains 6000 examples"
      ],
      "metadata": {
        "id": "5S7mdxX-iQvI",
        "colab": {
          "base_uri": "https://localhost:8080/"
        },
        "outputId": "11191da8-705f-4912-b670-4b83f41ce760"
      },
      "execution_count": 3,
      "outputs": [
        {
          "output_type": "stream",
          "name": "stdout",
          "text": [
            "Dataset FashionMNIST\n",
            "    Number of datapoints: 60000\n",
            "    Root location: ./FashionMNIST_CNN_DATA\n",
            "    Split: Train\n",
            "    StandardTransform\n",
            "Transform: Compose(\n",
            "               ToTensor()\n",
            "               Resize(size=(32, 32), interpolation=bilinear, max_size=None, antialias=True)\n",
            "               RandomRotation(degrees=[-10.0, 10.0], interpolation=nearest, expand=False, fill=0)\n",
            "               RandomHorizontalFlip(p=0.5)\n",
            "           )\n",
            "torch.Size([60000, 28, 28])\n"
          ]
        },
        {
          "output_type": "execute_result",
          "data": {
            "text/plain": [
              "(array([0, 1, 2, 3, 4, 5, 6, 7, 8, 9]),\n",
              " array([6000, 6000, 6000, 6000, 6000, 6000, 6000, 6000, 6000, 6000]))"
            ]
          },
          "metadata": {},
          "execution_count": 3
        }
      ]
    },
    {
      "cell_type": "code",
      "source": [
        "#Import Test Data\n",
        "\n",
        "test_data = datasets.FashionMNIST(\n",
        "    root='./FashionMNIST_CNN_DATA',\n",
        "    train=False,\n",
        "    download=True,\n",
        "    transform=transform\n",
        "    )\n",
        "\n",
        "print(test_data ) #10000 training examples\n",
        "print(test_data.data.shape) #shape is 10000x28x28 for grayscale image\n",
        "np.unique(test_data.targets, return_counts=True) #10 labels, each label contains 1000 examples"
      ],
      "metadata": {
        "id": "m9r4IU0KiUDu",
        "colab": {
          "base_uri": "https://localhost:8080/"
        },
        "outputId": "3fa33b69-3d58-49f4-86b2-d433301f22de"
      },
      "execution_count": 4,
      "outputs": [
        {
          "output_type": "stream",
          "name": "stdout",
          "text": [
            "Dataset FashionMNIST\n",
            "    Number of datapoints: 10000\n",
            "    Root location: ./FashionMNIST_CNN_DATA\n",
            "    Split: Test\n",
            "    StandardTransform\n",
            "Transform: Compose(\n",
            "               ToTensor()\n",
            "               Resize(size=(32, 32), interpolation=bilinear, max_size=None, antialias=True)\n",
            "               RandomRotation(degrees=[-10.0, 10.0], interpolation=nearest, expand=False, fill=0)\n",
            "               RandomHorizontalFlip(p=0.5)\n",
            "           )\n",
            "torch.Size([10000, 28, 28])\n"
          ]
        },
        {
          "output_type": "execute_result",
          "data": {
            "text/plain": [
              "(array([0, 1, 2, 3, 4, 5, 6, 7, 8, 9]),\n",
              " array([1000, 1000, 1000, 1000, 1000, 1000, 1000, 1000, 1000, 1000]))"
            ]
          },
          "metadata": {},
          "execution_count": 4
        }
      ]
    },
    {
      "cell_type": "code",
      "source": [
        "#Data Loaders:\n",
        "train_loader = DataLoader(train_data, batch_size=10, shuffle=True)\n",
        "test_loader = DataLoader(test_data, batch_size=10, shuffle=False)"
      ],
      "metadata": {
        "id": "x0IiMyDXifQj"
      },
      "execution_count": 5,
      "outputs": []
    },
    {
      "cell_type": "code",
      "source": [
        "print(len(train_loader.dataset)) #60000 examples\n",
        "print(len(test_loader.dataset)) #10000 examples\n",
        "print(len(train_loader)) #60000 / 10 (batch size) = 6000\n",
        "print(len(test_loader)) #10000 / 10 = 1000"
      ],
      "metadata": {
        "colab": {
          "base_uri": "https://localhost:8080/"
        },
        "id": "9NmWaTp8k_68",
        "outputId": "e2501068-0f49-45de-dae3-df07d4d36282"
      },
      "execution_count": 6,
      "outputs": [
        {
          "output_type": "stream",
          "name": "stdout",
          "text": [
            "60000\n",
            "10000\n",
            "6000\n",
            "1000\n"
          ]
        }
      ]
    },
    {
      "cell_type": "code",
      "source": [
        "for batch, (x, y) in enumerate(train_loader):\n",
        "  print(batch + 1) #batch starts from 0\n",
        "  print(x.shape) #shape of x\n",
        "  print(y.shape) #shape of y\n",
        "  break"
      ],
      "metadata": {
        "colab": {
          "base_uri": "https://localhost:8080/"
        },
        "id": "p3OdpOWAlew1",
        "outputId": "3aa6ca4b-84ae-401d-f72a-27a091ba5f4d"
      },
      "execution_count": 7,
      "outputs": [
        {
          "output_type": "stream",
          "name": "stdout",
          "text": [
            "1\n",
            "torch.Size([10, 1, 32, 32])\n",
            "torch.Size([10])\n"
          ]
        }
      ]
    },
    {
      "cell_type": "markdown",
      "source": [
        "#Convolutional Neural Network:"
      ],
      "metadata": {
        "id": "m3jNhF96ev1J"
      }
    },
    {
      "cell_type": "code",
      "execution_count": 8,
      "metadata": {
        "id": "ipwmWxH0VAf3"
      },
      "outputs": [],
      "source": [
        "class LeNet(nn.Module):\n",
        "  def __init__(self):\n",
        "    super(LeNet, self).__init__()\n",
        "    self.relu = nn.ReLU()\n",
        "    self.pool = nn.AvgPool2d(kernel_size=(2,2), stride=(2,2))\n",
        "    self.conv1 = nn.Conv2d(in_channels=1, out_channels=6, kernel_size=(5,5), stride=(1,1))\n",
        "    self.conv2 = nn.Conv2d(in_channels=6, out_channels=16, kernel_size=(5,5), stride=(1,1), padding=(0,0))\n",
        "    self.conv3 = nn.Conv2d(in_channels=16, out_channels=120, kernel_size=(5,5), stride=(1,1), padding=(0,0))\n",
        "    self.linear1 = nn.Linear(120, 84)\n",
        "    self.linear2 = nn.Linear(84, 10)\n",
        "\n",
        "  def forward(self, x):\n",
        "    x = self.relu(self.conv1(x))\n",
        "    x = self.pool(x)\n",
        "    x = self.relu(self.conv2(x))\n",
        "    x = self.pool(x)\n",
        "    x = self.relu(self.conv3(x)) #Output: num_examples x 120 x 1 x 1\n",
        "    x = x.reshape(x.shape[0], -1) #Output: num_examples x 120\n",
        "    x = self.relu(self.linear1(x))\n",
        "    x = self.linear2(x)\n",
        "    return x"
      ]
    },
    {
      "cell_type": "code",
      "source": [
        "model = LeNet()\n",
        "\n",
        "model"
      ],
      "metadata": {
        "id": "zeuHCQ1thSAq",
        "colab": {
          "base_uri": "https://localhost:8080/"
        },
        "outputId": "c82bef86-acf1-496c-eb40-c5da4e13894b"
      },
      "execution_count": 9,
      "outputs": [
        {
          "output_type": "execute_result",
          "data": {
            "text/plain": [
              "LeNet(\n",
              "  (relu): ReLU()\n",
              "  (pool): AvgPool2d(kernel_size=(2, 2), stride=(2, 2), padding=0)\n",
              "  (conv1): Conv2d(1, 6, kernel_size=(5, 5), stride=(1, 1))\n",
              "  (conv2): Conv2d(6, 16, kernel_size=(5, 5), stride=(1, 1))\n",
              "  (conv3): Conv2d(16, 120, kernel_size=(5, 5), stride=(1, 1))\n",
              "  (linear1): Linear(in_features=120, out_features=84, bias=True)\n",
              "  (linear2): Linear(in_features=84, out_features=10, bias=True)\n",
              ")"
            ]
          },
          "metadata": {},
          "execution_count": 9
        }
      ]
    },
    {
      "cell_type": "markdown",
      "source": [
        "#Set up Loss and Optimizer:"
      ],
      "metadata": {
        "id": "9775TAQjinxJ"
      }
    },
    {
      "cell_type": "code",
      "source": [
        "criterion = nn.CrossEntropyLoss()\n",
        "\n",
        "optimizer = torch.optim.Adam(model.parameters(), lr=0.001)"
      ],
      "metadata": {
        "id": "OPCa4smuinbl",
        "cellView": "code"
      },
      "execution_count": 10,
      "outputs": []
    },
    {
      "cell_type": "markdown",
      "source": [
        "#Training:"
      ],
      "metadata": {
        "id": "eMZNkZFNi3L3"
      }
    },
    {
      "cell_type": "code",
      "source": [
        "#Training:\n",
        "\n",
        "epochs = 5\n",
        "train_losses = []\n",
        "train_correct = []\n",
        "start_time = time.time()\n",
        "\n",
        "for epoch in range(epochs):\n",
        "  trn_corr = 0\n",
        "  epoch_loss = 0\n",
        "\n",
        "  for b, (X_train, y_train) in enumerate(train_loader):\n",
        "    b+=1 #Start batches at 1\n",
        "\n",
        "    y_pred = model(X_train) #predicting values from training set\n",
        "\n",
        "    loss = criterion(y_pred, y_train) #calculating loss\n",
        "\n",
        "    predicted = torch.max(y_pred.data, 1)[1]\n",
        "    #torch.max returns max value = [value, index]\n",
        "    #storing indexes i.e. [1] in predicted\n",
        "\n",
        "    batch_corr = (predicted == y_train).sum() #calculates the total no. of correct predictions\n",
        "\n",
        "    trn_corr += batch_corr\n",
        "    epoch_loss += loss.item()\n",
        "\n",
        "    #update parameters\n",
        "    optimizer.zero_grad()\n",
        "    loss.backward()\n",
        "    optimizer.step()\n",
        "\n",
        "    if b%600 == 0:\n",
        "      print(f'Epoch: {epoch+1} / {epochs}, Batch: {b}, Loss: {loss.item():.4f}')\n",
        "\n",
        "  train_losses.append(epoch_loss / len(train_loader))  # Average loss for the epoch\n",
        "  train_correct.append(trn_corr.item())  # Total correct predictions for the epoch\n",
        "\n",
        "\n",
        "current_time = time.time()\n",
        "\n",
        "total_time = current_time - start_time\n",
        "\n",
        "print(f'Total Training Time: {total_time/60:.4f} minutes')"
      ],
      "metadata": {
        "id": "wyzaqZ6yi29z",
        "colab": {
          "base_uri": "https://localhost:8080/"
        },
        "outputId": "d789952f-3491-4364-c198-296aa1a6aee3"
      },
      "execution_count": 11,
      "outputs": [
        {
          "output_type": "stream",
          "name": "stdout",
          "text": [
            "Epoch: 1 / 5, Batch: 600, Loss: 1.1430\n",
            "Epoch: 1 / 5, Batch: 1200, Loss: 0.6186\n",
            "Epoch: 1 / 5, Batch: 1800, Loss: 0.6335\n",
            "Epoch: 1 / 5, Batch: 2400, Loss: 1.1217\n",
            "Epoch: 1 / 5, Batch: 3000, Loss: 0.0939\n",
            "Epoch: 1 / 5, Batch: 3600, Loss: 0.4857\n",
            "Epoch: 1 / 5, Batch: 4200, Loss: 0.2769\n",
            "Epoch: 1 / 5, Batch: 4800, Loss: 0.5650\n",
            "Epoch: 1 / 5, Batch: 5400, Loss: 0.3596\n",
            "Epoch: 1 / 5, Batch: 6000, Loss: 0.2320\n",
            "Epoch: 2 / 5, Batch: 600, Loss: 0.1428\n",
            "Epoch: 2 / 5, Batch: 1200, Loss: 0.2981\n",
            "Epoch: 2 / 5, Batch: 1800, Loss: 0.4488\n",
            "Epoch: 2 / 5, Batch: 2400, Loss: 0.5845\n",
            "Epoch: 2 / 5, Batch: 3000, Loss: 0.1572\n",
            "Epoch: 2 / 5, Batch: 3600, Loss: 0.2064\n",
            "Epoch: 2 / 5, Batch: 4200, Loss: 0.3899\n",
            "Epoch: 2 / 5, Batch: 4800, Loss: 0.1532\n",
            "Epoch: 2 / 5, Batch: 5400, Loss: 0.2601\n",
            "Epoch: 2 / 5, Batch: 6000, Loss: 0.4974\n",
            "Epoch: 3 / 5, Batch: 600, Loss: 0.0796\n",
            "Epoch: 3 / 5, Batch: 1200, Loss: 0.2978\n",
            "Epoch: 3 / 5, Batch: 1800, Loss: 0.4898\n",
            "Epoch: 3 / 5, Batch: 2400, Loss: 0.2050\n",
            "Epoch: 3 / 5, Batch: 3000, Loss: 0.2930\n",
            "Epoch: 3 / 5, Batch: 3600, Loss: 0.1671\n",
            "Epoch: 3 / 5, Batch: 4200, Loss: 0.4336\n",
            "Epoch: 3 / 5, Batch: 4800, Loss: 1.2190\n",
            "Epoch: 3 / 5, Batch: 5400, Loss: 0.3519\n",
            "Epoch: 3 / 5, Batch: 6000, Loss: 0.3578\n",
            "Epoch: 4 / 5, Batch: 600, Loss: 0.0680\n",
            "Epoch: 4 / 5, Batch: 1200, Loss: 0.0806\n",
            "Epoch: 4 / 5, Batch: 1800, Loss: 0.4787\n",
            "Epoch: 4 / 5, Batch: 2400, Loss: 0.1398\n",
            "Epoch: 4 / 5, Batch: 3000, Loss: 0.4965\n",
            "Epoch: 4 / 5, Batch: 3600, Loss: 0.3091\n",
            "Epoch: 4 / 5, Batch: 4200, Loss: 0.3864\n",
            "Epoch: 4 / 5, Batch: 4800, Loss: 0.1200\n",
            "Epoch: 4 / 5, Batch: 5400, Loss: 0.0432\n",
            "Epoch: 4 / 5, Batch: 6000, Loss: 0.1103\n",
            "Epoch: 5 / 5, Batch: 600, Loss: 0.3739\n",
            "Epoch: 5 / 5, Batch: 1200, Loss: 0.0578\n",
            "Epoch: 5 / 5, Batch: 1800, Loss: 0.4615\n",
            "Epoch: 5 / 5, Batch: 2400, Loss: 0.1228\n",
            "Epoch: 5 / 5, Batch: 3000, Loss: 0.0272\n",
            "Epoch: 5 / 5, Batch: 3600, Loss: 0.0816\n",
            "Epoch: 5 / 5, Batch: 4200, Loss: 0.4215\n",
            "Epoch: 5 / 5, Batch: 4800, Loss: 0.5216\n",
            "Epoch: 5 / 5, Batch: 5400, Loss: 0.4311\n",
            "Epoch: 5 / 5, Batch: 6000, Loss: 0.1575\n",
            "Total Training Time: 6.0229 minutes\n"
          ]
        }
      ]
    },
    {
      "cell_type": "markdown",
      "source": [
        "#Testing:"
      ],
      "metadata": {
        "id": "1JnpSvdXi_oG"
      }
    },
    {
      "cell_type": "code",
      "source": [
        "#Testing:\n",
        "with torch.no_grad():\n",
        "  tst_corr = 0\n",
        "  for b, (X_test, y_test) in enumerate(test_loader):\n",
        "    y_val = model(X_test)\n",
        "    predicted = torch.max(y_val.data, 1)[1]\n",
        "    tst_corr += (predicted == y_test).sum()"
      ],
      "metadata": {
        "id": "tUy82K0Ii_VT"
      },
      "execution_count": 19,
      "outputs": []
    },
    {
      "cell_type": "code",
      "source": [
        "test_acc = tst_corr.item()/len(test_data)\n",
        "print(f'accuracy: {test_acc:.4f}')"
      ],
      "metadata": {
        "id": "pjAu1QomjC-Z",
        "colab": {
          "base_uri": "https://localhost:8080/"
        },
        "outputId": "4fa27dc9-aee3-4c2a-85b8-bf173c9b4a95"
      },
      "execution_count": 20,
      "outputs": [
        {
          "output_type": "stream",
          "name": "stdout",
          "text": [
            "accuracy: 0.8768\n"
          ]
        }
      ]
    },
    {
      "cell_type": "markdown",
      "source": [
        "#Plotting:"
      ],
      "metadata": {
        "id": "Y3P4zsnkjFlM"
      }
    },
    {
      "cell_type": "code",
      "source": [
        "plt.plot(train_losses, label='Training Loss')\n",
        "plt.title(\"Training Loss\")\n",
        "plt.xlabel('Epoch')\n",
        "plt.ylabel('Loss')\n",
        "plt.legend()\n",
        "plt.show()"
      ],
      "metadata": {
        "id": "Iiuo-mnhxoqE",
        "colab": {
          "base_uri": "https://localhost:8080/",
          "height": 472
        },
        "outputId": "49ce33ec-aaad-46b2-b891-4fac35cc04ba"
      },
      "execution_count": 14,
      "outputs": [
        {
          "output_type": "display_data",
          "data": {
            "text/plain": [
              "<Figure size 640x480 with 1 Axes>"
            ],
            "image/png": "[encoded data removed]"
          },
          "metadata": {}
        }
      ]
    },
    {
      "cell_type": "code",
      "source": [
        "train_acc = [correct / len(train_data) * 100 for correct in train_correct]\n",
        "\n",
        "plt.plot(train_acc, label='Training Accuracy')\n",
        "plt.title('Training Accuracy (%)')\n",
        "plt.xlabel('Epoch')\n",
        "plt.ylabel('Accuracy (%)')\n",
        "plt.legend()\n",
        "plt.show()"
      ],
      "metadata": {
        "id": "Pb6nfL0BOx3v",
        "colab": {
          "base_uri": "https://localhost:8080/",
          "height": 472
        },
        "outputId": "b2f3a416-1e75-4c50-c522-b374f8112849"
      },
      "execution_count": 15,
      "outputs": [
        {
          "output_type": "display_data",
          "data": {
            "text/plain": [
              "<Figure size 640x480 with 1 Axes>"
            ],
            "image/png": "[encoded data removed]"
          },
          "metadata": {}
        }
      ]
    },
    {
      "cell_type": "markdown",
      "source": [
        "#Save & Load Model:"
      ],
      "metadata": {
        "id": "NVLLq9h5jMUO"
      }
    },
    {
      "cell_type": "code",
      "source": [
        "# Save model's parameters\n",
        "torch.save(model.state_dict(), 'LeNet_FashionMNIST.pt')"
      ],
      "metadata": {
        "id": "SsTPTJkcjN0n"
      },
      "execution_count": 16,
      "outputs": []
    },
    {
      "cell_type": "code",
      "source": [
        "# Load model's parameters\n",
        "model = LeNet() # create an instance of model\n",
        "model.load_state_dict(torch.load('LeNet_FashionMNIST.pt'))\n",
        "model.eval()"
      ],
      "metadata": {
        "id": "l5XwiOKEjTat",
        "colab": {
          "base_uri": "https://localhost:8080/"
        },
        "outputId": "c62110c0-c9cd-450f-9d3e-41920c4bc2ee"
      },
      "execution_count": 17,
      "outputs": [
        {
          "output_type": "stream",
          "name": "stderr",
          "text": [
            "<ipython-input-17-d060cb80d040>:3: FutureWarning: You are using `torch.load` with `weights_only=False` (the current default value), which uses the default pickle module implicitly. It is possible to construct malicious pickle data which will execute arbitrary code during unpickling (See https://github.com/pytorch/pytorch/blob/main/SECURITY.md#untrusted-models for more details). In a future release, the default value for `weights_only` will be flipped to `True`. This limits the functions that could be executed during unpickling. Arbitrary objects will no longer be allowed to be loaded via this mode unless they are explicitly allowlisted by the user via `torch.serialization.add_safe_globals`. We recommend you start setting `weights_only=True` for any use case where you don't have full control of the loaded file. Please open an issue on GitHub for any issues related to this experimental feature.\n",
            "  model.load_state_dict(torch.load('LeNet_FashionMNIST.pt'))\n"
          ]
        },
        {
          "output_type": "execute_result",
          "data": {
            "text/plain": [
              "LeNet(\n",
              "  (relu): ReLU()\n",
              "  (pool): AvgPool2d(kernel_size=(2, 2), stride=(2, 2), padding=0)\n",
              "  (conv1): Conv2d(1, 6, kernel_size=(5, 5), stride=(1, 1))\n",
              "  (conv2): Conv2d(6, 16, kernel_size=(5, 5), stride=(1, 1))\n",
              "  (conv3): Conv2d(16, 120, kernel_size=(5, 5), stride=(1, 1))\n",
              "  (linear1): Linear(in_features=120, out_features=84, bias=True)\n",
              "  (linear2): Linear(in_features=84, out_features=10, bias=True)\n",
              ")"
            ]
          },
          "metadata": {},
          "execution_count": 17
        }
      ]
    },
    {
      "cell_type": "code",
      "source": [
        "#Test Manually\n",
        "img_num = 123\n",
        "\n",
        "img_tensor, true_label = test_data[img_num]\n",
        "\n",
        "img_tensor = F.interpolate(img_tensor.unsqueeze(0), size=(32, 32))\n",
        "\n",
        "with torch.no_grad():\n",
        "    output = model(img_tensor)\n",
        "    _, predicted_label = torch.max(output, 1)\n",
        "\n",
        "labels = [\n",
        "    \"T-shirt/top\", \"Trouser\", \"Pullover\", \"Dress\", \"Coat\",\n",
        "    \"Sandal\", \"Shirt\", \"Sneaker\", \"Bag\", \"Ankle boot\"\n",
        "]\n",
        "\n",
        "plt.imshow(img_tensor.squeeze())\n",
        "plt.title(f\"True Label: {labels[true_label]}, Predicted: {labels[predicted_label.item()]}\")\n",
        "plt.show()"
      ],
      "metadata": {
        "id": "QPydMTvrjXGs",
        "colab": {
          "base_uri": "https://localhost:8080/",
          "height": 452
        },
        "outputId": "87f3bb91-9fbc-440b-ea33-40316bd5d7c7"
      },
      "execution_count": 18,
      "outputs": [
        {
          "output_type": "display_data",
          "data": {
            "text/plain": [
              "<Figure size 640x480 with 1 Axes>"
            ],
            "image/png": "[encoded data removed]"
          },
          "metadata": {}
        }
      ]
    }
  ]
}